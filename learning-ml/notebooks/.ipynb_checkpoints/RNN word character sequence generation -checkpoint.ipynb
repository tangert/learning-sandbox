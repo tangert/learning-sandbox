{
 "cells": [
  {
   "cell_type": "markdown",
   "metadata": {},
   "source": [
    "# RNN word prediction \n",
    "Building a Vanilla RNN and LSTM in Keras"
   ]
  },
  {
   "cell_type": "code",
   "execution_count": 42,
   "metadata": {},
   "outputs": [],
   "source": [
    "import numpy as np\n",
    "from keras.models import Sequential\n",
    "from keras.layers import Dense\n",
    "from keras.layers import Dropout\n",
    "from keras.layers import LSTM\n",
    "from keras.layers import SimpleRNN\n",
    "from keras.callbacks import ModelCheckpoint\n",
    "from keras.utils import np_utils\n",
    "import sys"
   ]
  },
  {
   "cell_type": "markdown",
   "metadata": {},
   "source": [
    "## Load the data"
   ]
  },
  {
   "cell_type": "code",
   "execution_count": 4,
   "metadata": {},
   "outputs": [],
   "source": [
    "filepath = \"../data/pg.txt\"\n",
    "raw_text = open(filepath).read()\n",
    "raw_text = raw_text.lower()"
   ]
  },
  {
   "cell_type": "markdown",
   "metadata": {},
   "source": [
    "## Map the characters to unique indexes\n",
    "These dictionaries are used to:\n",
    "1) Transform all words into a series of one-hot encoded vectors\n",
    "2) Transform vectorized predictions back into words"
   ]
  },
  {
   "cell_type": "code",
   "execution_count": 44,
   "metadata": {},
   "outputs": [
    {
     "name": "stdout",
     "output_type": "stream",
     "text": [
      "the investors so much about their startup hubs.  as a lot of mind i don't know the more airborning case of the european of the schedule, and from such sites that would be that a low idea for money we're not in angel rounds. the world are the danger that means (e.g. is the partner of experiment with a time—what if you're going to sell to extreme kids. decided on the country means you may be able to do things you're sure that all you don't know now learn more wrong. the first time no less denial.  when you're not looking for money, but you're going to be about the structure of what would be later.  it's a bad company advantage of since the median was more precisely impossible, but when you're getting hard to be failure on them. we're probably all the founders are the best investors didn't have to are learning more conspiracy. i've survived like kleries will be the good angel investors they don't have. it kids it was a company probably was small products and surprised by how hard to be able to do him, and such revenues leads no, they can use anything considered if you can't just say that's very good performance with internet. and if you also can always be the same people—in the most problems, and successful startups, is one meeting to value for driven by individual, but stop you're raising money from a point of people. all you try to prove the years doesn't use this is not specific.  i've never called deals with him at least in a new idea of the startup that seems to be merely good from how much they shouldn't prepare when you're talking to them.  a lot of n things that might deliver why we make a startup is selling how investments turn out to be working on the first angel rounds, because they don't want to have a lot of something more about which you're going to hear startups, you have to be a better hour when valuations are time are helpful that they should get it.  there is not, it's to be persisting about the time, and humans were always been surprised by working on it in the iphone to make it. i weren't often all the bad, and normal cases, but it was about their content is partly because i've cost of a radom of users, then not everything of the alimination of existences, but being was that someone suppliers weren't fundraising in your subset of the brutally from the case.  so i seem surprisingly resourceful.  ______   the fact is always degreed by first not university. it's not just as hard to change raising money into a conscious idea. but you're more important than it's quite writing on what they were obvious to have the children. we won't learn more about what's going to be more confident, but that has been when simply startups become a radiar case. when they want to meet into it. investors will be surprised by all is so never about a couple years old. if you usually are control about the best goal for a startup is not just what someone will be not just the price that decided to be running you can decide to them. if you don't have to do it look like a social thing. it's a lot more about each problem to do it changes to be considering the biggest great person, and you can also be fundraising in the point of internet—the organizations makes it a lot of time making one reason it's a change if you solve markets.  that's not decided to invest in the future as seriously like for a large organization in a startup that's the different programmers at the other field, but you're someone who says a vc fund in the most important than business. it's way to accept you how much they're not the reason because they're sure that even if you make more common that you're like you must be hear to the work. you're only not to make me recently being pretty good technology. since how much to be the schedule does, it's increasingly because some crazy solutions don't have a zire enough guess we haven't done even though.  dealing are decided by big each startups. the goal holdless control of the list, and yet they want to start to. the problem we've worked off by such people have a hundred of traffic a lot of startups. but what you're investing in makes $100k in most powerful companies. the vcs will succeed, and the public company they wouldn't have more impressive. but unless you get started by definition of the startup's initial restrictions, which is going to get big deals or experienced for startups will disagree their willful than bad ideas is you make a good startup. when you have someone like a business of companies only advised you with groups, when you're not the schlep is enough to spend the world, but first rate your ideas to high subtle wealth and hackers to do is like the flatter of a 3% of them. if you try to prove it, unlike it will also be one of the world's amounts of saying you'll gradually need money, possible to say \"google has been to say \"and uncomfortable is hard to say \"the round for few years ago.\" so a next deal could see one of the path of the most people will find everyone can read a force to use the users, so it's hard to invest in one of the super-angels may be all the biggest companies have to always invest in a dealing with the world. and yet when you're not the good programmers make it usually a good deal, his of it.  if you start to raise money from even an idea of building a winner of technology and distinctions, they don't know if you're the sort of power in the degree.  [4] those were going to be with them, but super-angels are surprised at me, but because they don't buy in a large organization is 55 years, so investors could get your thing to get in least ideas.  the best startup will only make me. a lot of people three reasons we would have to be the lead of startup ideas. there is a new thing is negotiation that between startups, and there are their problems are not probably the company that interested in fundraising, but there's a slightly nothing disagreement of new ideas.  if you're successful founders, it's not, and you're looking for the first danger of lots of people who can't explain when you're surprising to do.  it's not the point of new things, for example, for the company is not complex people with programmers, you can't have in an answer to realize. what you'll keep you: the trouble of saying it's a great sort of biggest one, and it is, the company could decide into the product has always had to start a startup in the next 5 year old of investors would seem obviously previous unlikely to think of the vcs will refuse the jided you're trying to have good programmers. there's no implicit problem that probably be components with a day for startups. but the best startup is choosing that it's really presented unfortunately. we haven't had a few decided model of startups that wouldn't be willing to do with the same argument a preventous both, it will increase a performance of vcs know fast, and they're running them. there's not big companies don't seem like they field at reasonable than they started one.  you can say when you're very big enough to buy off for a new sense to do it to someone made someone who wouldn't seem to very it, and the time isn't exactly much or in the higher bring for good as the best investors. they didn't needed money. but if you're not just to be good and because they may have been described by looking for it. they're not trying to see something about the production that really decided you can actually take a phase 2, they might not be able to be too, but to refer a bottleneck in a friend didn't have to predict when you expand to the different by any one of the domain about it to companies.  for example, all the tends to be due on a complaint, and experience they could say yet we're really wasting to get more reacted from with the opposite of founders. so other investors are only else, and the best discipline is why they have trying to feel bad. someone by smaller points know are like they're a second scale is one to drive when people who make them to offer one and don't seem to be able to get more like it. that used to be to change something they are. and then to fail could be, because you're trying to get scale you to look for them.  the list of people will change them by when they don't realize your own definition of their tablets in effect.  the world would be just all the degeneral person processes that treed to precise new ideas, that could convince one number of people turned out to be told to produce. the fatal clumber to such judging how big returns because seems to be good process of the way by seems fundraising. but we're sure they just learn most attention between syrelicon the us and new york was to feel like this founder they were writing the backwant to people want. the reason when you raise money, because it's a very new one of the made if you want to be able to be flacked by order to sell that. there are no reasons don't get the friends and they're doing about it.  because they're not sure startups than they'll preced for your product people, and you figure out to learn about deal, the most successful startups will have good at the sort of people with many startups you strip initially, from investors feel bad fundraising mode. but you want to do it even if there are several good at it. it's going to really be interesting in winners if you're just as hard to make them your own method. i didn't know how do you want to help the most programmers into a decide with no one founder, it's a startup to be able to start a startup.  someone else succeeded is on them also commitment.  the only thing is that you think of my judgement is something just that they say what you're all the founders about the amount, and they have to make them cared for lots of implications—that you're being legally saying \"we wanted to use your domain what they're pretty surprisingly, but investors like a spoy, and there are in this new valuation: apple was are going to be like the idea. and because doing the size of a consequence of currently good pattern growth do it first do to take their model of founders don't have conservative makes better revenues love you were very experienced just to do that new people who have to have to do it. for founders are lots of large organizations in 1980, in leonardo which seems a big company is the next 10 year old applications. plus you get down as startups that have fixed investors, but they'd hire it is what makes it needed. if you're probably going to conceal about them, because the way to be on the company you need to advise a startup is the only one.  that's why discovering you're doing something that could be no limitate of each experience; most people who seem to be able to change stock to them. actually they learned to an industry, but getting them careful to do that many investors.  how much mieways offer them a number of users, to produce the most successful startups get supposed to be making a time as a median of being expected by gradually in a last called undergrad, investors feel raising money in significantly good, but your successful startup is not just a partner in sacche is as a sign of their money.  the problem would be the next idea that depends on the next device that google raised money at least they can't be complicated after we were selling like a new general sense.  but if you want to see a lot of fact that it's the shot acquirers and risk than the best half. if you want to start to only do it from someone who can have a company that wouldn't do that have probably may just have been being more to do it by increasingly perhaps even if you get better, you're trying to raise money that probably might be able to invest in your three first.  so they were all to solve outding them that startups seem a big essay crazy that have to predict between the life it is changing their startups, but you also don't want to raise money from because they felt them as much device that significant people's problems like you'd know how big something you're learning like a sign of decided, you'll be in the next best couple years who don't realize at the well. and then you can work like your idea in a lot of your design you're not the same valuation of any extent.  a startup that can use why the world is to sell experienced by the startup gets the hope. when you work much to watch the process of unfortunately. if you're relentlessly too presumably being my particularly bigger than the results of good ideas, and she's started, and it's more working on something like someone who wants to be a good scale. [4]  one of the other things that would be a telling the most successful startup. the late people who can't try to be big out of startups, because they're common on the startup's town the position of which they're drifting for a startup to be the same reason you're more market, but only the long time you've been as technology—probably hard to make startups to expect how much you'll be able to be super-angels that want to had an idea with later next.  i was going to run on a business of investors who'd read your different process turns out to be programming just for granted that they're surprisingly going to see programmers on labels because it will complain yourself like i was making an amount of improve. if you start to tell people have to start your money were false. when you're surprisingly really good at being a good company where it's a college word, so you're not a good person, and it's not the problem was the trend for production. investors will be them could change a different idea, but you are startups that raise money that are two people, you can get your freedom than makes you by bad terms that are even in a vote from which and you need it.  [2] the board may be in completely just to companies want it and quickly, or me, so you probably profitability is not the best startup is fixed model. when we can't end up to point them in 1985 of the internet, it's choosing the company. when you're an interesting is that made a good spread of trained to them make something in sure that they seem definition at the leading town of the biggest ones. it's so hard to read a recipe for your form of a problem that can be people they're going to be a surprising different programmers, which would work on something will get it like something about the key gets, but i can be sure in the first second reason i've mentioned the sort of small university of making a regular valuation of his problems.  in fact, they get more for anything he can predict the opinion is worth as long now, but they're different to see they think they don't be one of the same individual choices. they're like they'd say that doesn't learn the current partners. why don't want you start to work with the founders as zero of your product, there is a new thing would take the world for someone. they're simply to take a lot of an organization and at the corporate time: the company is client from a fixed company that starts companies are often can't end up with the founders grow for someone you'll need to be true of change, but investors have to solve the definition of investors who don't sign all it. they weren't hard to a good startup to be a problem, so the long you'd be experienced to do it.  if you can be able to get your idea is just a startup that you're very wrong. and even if you start is that it's not going to be something good. [4]  roberts were not a segreated leading programmer, and vcs have been helpful is generally about one to look for the vcs. but it's a surprising startup is an interesting thing, and which is to do that i think of the subject and even if we take startups have been something you'll end up as such a term should be better than the money.  the ones are more some of their own everyone is that he figured out to be user when you make it good university and the reason i felt permissive to the dangerous case. you're doing too an advance if you have to be different to do it a mind in going on mooney, when you're going to go a few months into a little life (in such a practice is not to suggest their founders to get in any group to matter it. in the us, is undergrads are trying to seem to succeed, the news or even for more reading money is that it's going to do what they were not as long to start to work for a technology company has more than you have to find your users. which means things not don't tell their programmers is particularly slow for being profitable. and the world has always been a good property of investors about growth. if you're parents are probably in the media round, you'll say few means that they're doing it from different.  the founders get the way to do that investors have to deal with a large organization. if it's even the most important startup is a number of extent to could generally try to verse your kids they were talking to the other. there are demoralized in the hope for founders just feel that makes you a conversation (or can meet more than being so place.\"  in fact, it's particularly enough, at all acquisitions and also the ones.  i've done are the users can't face that people who wouldn't seem like they're looking for it. a few things as well as super-angels are laptors to even make you. and there are no answers don't tell them to have the future and a startup market: you can't learn by as a big company refute. it's several implicitly tend to call them. it's the right assumption to start them a large organization, even if you're not sure whether you have excepted so far of their traditional programmers, you have to start to steam with more judging choosing what you're probably not relative than when we can seem less more people who get startups at anything with other companies.  i don't can't carry them to fundraising models and interesting is wrong.  the founders haven't wanted to do good at doing the same way to try to help yourself by purposed to be the internet person that was like american problems. i've gotten about him users you should be one different kids, but because someone makes your advance is supposed to explain yourself at even the reason what investors would remember even they'll tell you. and they can get into a big winner, and something you have to make up exceptions. if you're all even the other scenes of the best sort of school that it will succeed in the reason that will have a step if they get the company. in the last 20 years who've good fast companies so important in the long company in the first investors, and having competitors will feel a better thing. and losing because someone else says this sense it and in part of the same shift in the sort of response., what should convince him that startups will ever have to be organized in long as much and schlep and a better than now they used to. in the same investor startups have a different problem for more long, someone like fractions as a result of successful founders will explain it.  the startup is one of the next will get up in the other life, and the asking we sound of a specific talk about your ambitious experience of a product model.  it's still so much as a startup is harder to do saying. it's saying yourself in person consequenced of your the first startup is that they could have done it works to me or just as you instead of made up. and yet it's not sure of the conversation to realize, and even if you have seemed surprising, you realize by great increasingly long.  so you can't disagree with other people will have used, just the message of using the treat, but the type of startup is for example, when you needed to be more likely to take it. you could be experienced to do it. so you can't tell you to make them into one world to go away. and yet if you're expected down by making the mistake to be vcs to the big parents spend more than the idea than your principle at least, but they can't never start to be the stock of many subsets.  [3] if they will have to be completely sending powerful than which is the next revenue, but you can improve your own unusual thing that was the right ones have no sense you're probably obviously in the best founders you have to get into the second people it's critical increasingly about it. unless you can see which investors will have been fundraising is, you have to do what you're being so much point that we learned about books. i can always be a small organization will let you on the people who will even refer a startup with free aren't quickly as i never been the biggest day that would be a company is that in ignore the real product programmers. in fact, why doesn't make, the new york could get really seeming a lot of straight, and they know what it isn't suspectively to launch your attention to existing responses, why do you want to say their company is one more form of your process. or good startups, you expected for point with the valley is to predict what you should make them as a nice. but you can prove your friends of significantly, as i'd now absolutely significantly like bad customers, and someone says what you're fundraising is badly for the future.  there is no super-angels are always less important to produce different people who turned out to get anything that makes you more than the most productive first problem, where you're considering with them well on startups wouldn't be sensitive in the sense of a list of you. if you have to say yes of your direct of investors are not to do startups have a good existing long step between the idea of uncompanies than something that west new explored as people who will be doing it. they won't really be able to raise a signal, since of you like the single big decisions of other startups. they are more founders were back. they didn't come up with other open the right money. that could think about the same big company of different startups will not be startups.  because they'd be to try to sell them can get anything, then demo day, make money explains whether we don't have to cook at any assumption that this is set the rich sort of people who know when you're bad. and then you're surprising to pay pretty never saying the startup you have to get giving them something that have a free. anyone like us, or users, credentials, and the market companies to sign for investors, and you can take to invest on good ideas that kill such companies was the very example—quickly, you're not ramen profitable and almost enough to say this, and they're possible to do this is right with users.  o second investors was paris to do this are very an investor is the existing reason it wouldn't be the extent group of vcs, and they're all we probably hadn't had a startup in specific percentage.  you don't don't have to investor can say it's always doing much. they're sharp your first, you'd have to be sure you've gotten competitors don't say this they help them. people write a lot of people who expect something because the way to be helpful for investors.  what really seemed for consulting is the palt. one is not just a problem that gets more surprisingly business than they make as long as situations take a have a past to think of the company's standards. so if you're being meaning to make money that they're just a lot of good startups, and there are only nothing is to do this scale as long as you're raising money.  the case of users want to discover the same time. facebook changed the ones in the last successful startups that get them undergrad consulting high as you have to be able to make comments at higher whould you know when they were doing that. why supply because zero-sum because someone needs significantly a third friend screen or no one else: it's not sure why you should get college. so if you wanted to have been good and you feel such a founder is a describe the movie, but you don't care them replaces the most important control if you also always forgot what you don't end up having something that's common in the world and one of the time it's a large number of advantage of the harder than brain. the only list of n things that were information to be genuinely going to start to look for your life, you don't need to make control of an answer is that you have to convince investors. if you know if you're someone more going to see your startup and you should get in delay at the point at first that with the opportunity of one another is. and which is sure you have to ask your investors in ordinary jobs, but you shouldn't start a startup is a business is like smaller schools, because they could have sentenced the good programmers you need to. that's not expensively impressive, but it just have to consciously use a bunch of profitability.  a company that started by it used to reduce deals. what startups are not all to describe an idea? when you're more discovered, but i wouldn't engage them. it's sure more can admirably even work for it, but in the app store were going to be one of the biggest hard in the way they have to do is surprisingly less of the position a source of networks. if you're worth intelligent; it's a sort of general share of new schools.  that's probably speaker.  so we're working on content in internet schleps, in the power might succeed to be new stores. the problem of his couple ways to look at yahoo, in the same path to the case of convincing people thinking about about it what she seemed to be able to grow on gradually to use time, but we always want to probably valuate a technology startup would raise money and investors who have smart people to try to do.  the startup shows the technology was running them of startups, but you're accidently as much they don't have to behave. you'll have to be better to take a recent company with the top year about them.  and when i like the attention to such the future would ask about having the problem, they seemed to be right now, but any company has a better series a round that really have to be useful to the most important previous technology. there are two ones seem to be the first thing to say \"which would not seem hard to get a limited if you're for a impression means, but there's always like you could say that you ignore just the sort of being meeting young from the amount of power when you do it. because they know the more capital trajectory worked in the least person who turns out could get the programmers who've seen about the mexist of the initial programmers. but only a better money would get a lot about successful startups is not less optimizing into the whole sort of new consulting to work on such a startup with angel rounds. but if you don't want to people don't need to be a subset of powerful question alone with the next kind of different protection for startups into the spread of one round, good at least. that's the organization is hard to be conservative the number of general. and the problem was a nonmoly, even when your own hacker companies will say that a couple evidences is it will do that interesting, and if you get building a substantial way of the conversation of the path that you wouldn't have even been a really founder. so why it's completely good ideas, they're going to be able to raise you down by different things.  if you're a way to work the children that increasingly already choose the idea because they used to get good startups. [6]  the company will start a company's experience i think we're going to keep a talking to startups that have different public things, and probably working on the case that makes money from buying something tv can have convinced even if they're being similarly deal even the prepared along the way a lot of people on the reason would be to hif startups in the conversations, but you're interesting in a lot of reasonable investments, like low, and if you don't have to work on the people they were borned in the reason they'd feel better for launches. what happens anything so far the most programmers i think they do and make a school would be interested in raising money, but i don't need to have to seem to get it just as good destribe if you know they were dealing to convert into it to your role as run in simple groups about a couple years everyone large. [1]  most who already doesn't seem to get as they don't valuate new down seems to be able to do from the main moment, because they'll be doing us in founders more people who are something partly because they'd understand project to discovered this type of particularly called disaspect to raise money. but i don't have to be surprised anything surprisingly many to do is that a few million of class to decide will ambitious. they learned to keep with them a sort of valuation, or don't be the founders. even because the plus from a type of being one of the things tend to be odd designed to them your model.  the consequence of collogic startups would be more about it, but if you're really because it's a sufficiently important to talk to the company that scared \"i wouldn't have funded the biggest startup is depending on the class of which of the outside practice. with a is offer experienced. [6]  the degree of lumping in the reason we wouldn't be the leading of being good at a very money. and the company are a mistake at first that has been the your market all to make a factor and always later market. if you get better extra company makes it a big company in their experience for a series a.  why do you do what it's worth trying to know you won't see them, which is caused by how in a programmer is the sense? what you're only a bad one. so that is a conscious honest that you're producing your model in their cases, like it you should let them. at one is that they don't have to make up your company.  i think they'd been with being working for a response when i tell you from a startup, and you wouldn't have a whole same price. but if you'll find the future, individual groups in beliefs, but some like school for course.  i've seen the something considering for the computer sounds of founders an every first programmer with batch doesn't be the survive of vcs, but what it's not consulting. he supplys like having the best startup should be running them small sentences, taking leads around let's be true. [4]  most of the alarms have been the things that worked on it.  and when i say to learn them in a recently stronger of friends to except the school and failed for consulting to everydo. they'll be so convincing on the best people that should be like the article after a good idea. if you're going to be in the critic factor's schedule, it doesn't have to get a bad. when you're our company are better at least speakers of the painting could grow spread, not the effort to make it exactly whether you make money. you can't encourage the way they haven't generally expected in someone who were the end of people who don't know about it. it's how crossors who don't like the confliction of a lie. most people who have no best startup founders is decaded from so much better than all super-angels. if you're not because you're making the company perfectly bigger than doing you, you'll just be not the first time you'll ever say it unwere a lot of fundraising. so if you're convincing in the list of their founders, they don't want to raise money by doing more money from investors. i've already desperate an exciting. for example, you just worry about the feeling of a first children in general series a rounds.  there's a little like it with hurton a lot of people, million means their angels solved to sell an idea to other people who don't know one for which is the occasional consulting formidable. they remember less a new time the same investor is that where you're the stock for the more than you have to be programming.  maybe the sort of being doing that it was lucky as in the experience for them or x? [3] but and offer. the most important case not because they're used to be able to say what i think you have to see how important you shouldn't explain the extraordinary successes and investors wouldn't deliberately be true, but as the last few deals in a stuff, you'll know what you pay you present from startups. you can't want to get in a valuable job of very profitability in a startup in a mistake to change as if you can know you have to be higher for a lot of technology that's so hard to make them. but because there are so much began in a median way, and launch investors who won't know how do: they can get adults burning a lot of large organizations that don't want to get running to the way of usually. it would be good people in the world companies that might care less country that proposes is when you're competitors. i'm formidable now, i saw they might seem a linkable mistake of a change the same cheaper because they've known off to spend them. probably a treat time, but the beginning sounds startups are the good way to get to start a company from me. which means in realize would do better efforts that you don't really produce the article that designed to seem to grow up in the same type. we couldn't realize this makes it well. if and not not make the super-angels are surprised by big people, but not no one else will find different for web.  i've seen complicated what you're supposed to figure out to be hard to raise money. at yc you really seem obviously in the world is the experience of books before when you're using a lust language, and you usually be decided in the startup is just that they could go, but you're enough to do the lower should do where they need to make you.  the extra both dismission is a worse company. the scale that is a technology brutal sense that in the software of a good problem without very fast design in a startup is to be other startups. if you want to prefer to developer by responsible to change in the us, we've made being more like your brand. you'd learn something else has going to take the same public stuff that are more costing to live, but they're sure in the two experiment that you're so much more thing that you can't probably increase the most productions at the size of money; you started a purpose and in a couple deals. a type of stock they seem a technique of a cost of investors from the smart people who wouldn't worry enough with any more writing startup that was not merely as companies to find this asking experienced by order than a primise of the same startup. but i realized in a startup is. when you start a startup would compete to learn to learn how do you do? what you can't adplice even if you can't be their being a subset of something more until you end up to them, just in experience that was surprisingly the way to prefer to a one as a living your future. they're both the problem is the hire will be in students. if you're doing at least one between a couple huge investments to see a great group of college, investors need for the biggest scale, but if you grow to competitors will screen all the whole student of great techniques of a list of n things. so we'll have a computer and solved at a company asks.  so or feel like what someone who is any acquirer who are the optimization of technology would be the idea are the ones that go about an essay of the seed ideas of users. but they know someone who has a lot of some different school doesn't convince investments.  in particularly because the question is a all the large organization is to the startup is to work experienced by it. it will get the world of what you don't have to be becoming startup founders and working on their labels, you get the series a round is the hot you're not not because you decide to be less so much from discovering through.  as a few months are out of new people's university is driven by schools. it might seem bad and so of web, because someone who wouldn't have been one of the size could be committing.  it's not supposed to be the world. they say \"don't want to remember how far you have been to like acception.\" in fact, it gets particularly a truth you don't learned to do it. if you realize there are one of the startups, you shouldn't say something hard to create founders in the far about two months. so you're often profitable to look for other problems, it was not because they weren't going to be able to be solved to investors are buying to start a startup as point.  the reason we look at users, they were published that with users they used to meet them will have once the example of the world; if you were going to be are well, you can still launch the same things more disapproved, or everyone else who were the best ones haven't decided to get a change that you refuse them that if you seem like that presented someone who's saying you could stop. you can't ask what good times they're usually common to be in board startups.  there were a function of deliveries they may be interesting to see them. the startup will be the most reasonable thing to compare you know is not surprisingly the most famous person.  most people who have to try to take the revenue of users and dramatical works. we probably seem to study them for applications, but the first thing problem has to find it.  it's service when you're doing different people, they always need to get makes something about an angel round.  because they may be more more valuable by an angel round. they want to refer become a given term between market, something is enough a programmer for a company needed.  because the reason the leaders went to about things that recommend is that they're going to keep such money to investors know of a done that never have at the world was enough to have organic and we could ever to learn deals without what air could be out of them. the site of it, you're not sure up a few companies with investors. if you're not to buy this is not everything that makes it more none of the company is that you'll want and they're correctly deliberately nothing to buy well.  another way to figure out the experiment in the idea that let your software down the called reddit up (point, but they're series a rounds, or don't invest in your model. if you're just merely worried so far a conscious performance of demoralized from optimizations. that's why the weakness is not like he said that they probably work in your promising is not just and you can get you down on fast sufficiently no money.  there are so very clearly the first time to do it at the kind of missing well, but they're more battle. that's why they only understand is. because we push you that it's not a science of clear or never been small deciding every startup you're learning that they'll need rejected by the failure—why do it means you figure out to be investors don't realize even the way a niche years you're also like a saying that sort of company is when for example, when you work for your interest in it. this is when you get a group in the sort of people responding problems to prevent an experted of them.  formidable cases aren't merely probably not merely like the property as you want to.  you can have always say differently between you to right them them. the physical reason is different.  you're so doing the pick of programmers who want to deliberately want to tell everyone who really like, but in people you're not a reasonable thing we were doing that.  when i need to be just a problem to essay that about 50 years ago. we don't want to invest more of the interesting organizations in silicon valley, and make this problem trying to confidence for yc will get more of a higher harder than making low at early customers, just that means they're just working on the world moving the idea with people who want it to get companies, and they do wouldn't have been supposed to get startups, the big company are companies who incompeted to approach about them. they don't know they're about to be able to find your form of single. so it may be not except in what they're unless you notice them. and yet it's not going to be able to try to size the chance of too later and ready the presing, and they can't be missing to work on investors. if you have to want looking for yourself making money and work with their regular colleges out the most people in the main checks, you'll like more of the old. they're only saying whether delivering something much working on them good ones. whereas fundraising is that they just realized the board stage than not competitors because they're at least better than it too. when they started to understand the first time there will have already heard to get on the scale that seems professional industry by shifting they'll be large organizations. in advantage of saying of the idea of it because they were about 100 years ago.  if you're so much better not expensive to figure out to do in anyway, i don't think how cluelessly that if you're just a sense of college. so why do me have good startups.  the problem is that you have to do more from which businesses seemed to be something about the company has only wanted to be their startup can tell a couple times that they're slowment by series a rounds from bending what they need to regulate what you should ever tell what you're not valuable.  one of the deals will supply in a good startup will be 10 years effect they'll have worked on the next device is that much disuselves only the top after we were evolving the amount. now the reason much becomes the best deals you didn't care the under startup that doesn't seem to be companies are the share subject to start a startup hub—committing to do into the last to seem that someone can be able to figure out to from people want to probably get from something. if you start to pay fast between fundraising is a particularly small except to sell it. but the last you'll do is there will hire your series a rounds, but you want to notice a big idea grow startups as a surprising power to do. one way to succeed at the lot of investors mean in a group of founders that could be not a safe. you can see your employees we've launched, and the feeling was what you have to succeed them. and she vary successful startups had been means for financial times and their friends can solve what they seem to return in money. plus you don't have to like the food the founders, and senment for the same message of the most successful startups to grow from everyone who said this time the right product—as you're just not a better than the founders.  the best is surprisingly because they'd be more extremely definition with smoth in companies from person where the world is that prospect in the embition of launching your means in fundraising. in fact, you may need to get successful founders as big startups, but you can eventually be going to start them. i mean more disciplined are more than a strange removed to them for most of the same as it might get a company on partners, and if you could imply is the difference will do that any startup needed to have the acceptable founder. [1]  if you're going to be confident in the physical business that's why if you want to do that. you don't have to say yes. when you're investing in an expense of early time is that you're doing it that degeneral and don't get the profitability for the giving them do. when you want to refute their should be like just sex, but their life they hear when you don't want. you can convince your company much more likely to make people for a lot of people are never been programmers by desperation, and the most of the reasons we're the surprising side of a power but in a barbershop is over, not the ones have even afflicted interesting. but you'll just need to realize that you can do new angels. we were a degree founders are working on your chance of which happened instead, and such writing wealth you need your startup is deciding the world. they didn't mean significantly specific in the future.  so we have more ideas than having good values respected by the problem—people would be hard to several way to size it, they have to make people they had much developers that if they're going to be variable, but we don't get a super-angels will free a side of the attention is by the goal less when they're not trying to raise money is to ask off their situation to the growth rate. a lot of people are considering money and saying \"don't realize there were true you should have to be a different being straightforward.\" if you tell no lots, is the most dangerous programmers like a technique of error, explicitly among your unconscious type of thousand may seem to focus on course the people who don't know when you don't know everyone else would be the future where they're not just the attractive to true. in fact, one about the way to get programming: you're looking for fast, so you'll make them for a number of existing money will even go to the acquisition. and the most of the first step companies that seem to raise, because they're just really a dangerous problem is avoided by writing some experiment is that how much you're still looking. that's not so much like them are stupid. the world's startup is perfectly on your gradual point. plus you're so better to left by the size you've been great you more when you put us. it's pretty an audience they'd disciplined they're enough to be heard to avoid prepared and good increasingly there's nothing leading it your design where you're raising money, and you're not a initial site when everyone who projects don't do it. there are someone let you may be a market for a lot of people get more ideas in the whole expenses, but you can notice them to suve you. if they won't talk about the whole way you're not going to get more industrial in companies were big, and after you can always be good ideas. pick when you're valuable and get broken more powerful startups, you didn't know how to do them higher ideas. [1]  the large number of companies seem depending for the side of that is that other people you need anything of religions don't make it factors in the same present of meetings. you can do about the amount of choice.  [2] i'm not told to do it more to say that will only do something needs to have plenty of credentials. if you're from credentials don't get all the problem on the founders, they wouldn't change but on yourself but they're not already that going to start a startup. so if you don't want to start to get you a people who want a startup is really not to fix yourself in college in an existing company.  [3] investors won't be inborn that component when they have to be worth for the startup some precisely obviously specific best reasons. but large numbers of fake one public reasons may be faster. they try to make up curiosity fundraising models who seem to say how hard the design in the story. not as you see whether you can't do what you should have even worked on the early amount of response, and take investors will get into the founders from a point you're really realized like everyone who scares i be speaker. it was raising money, because you're making money, it may be a part of the average new time you can invest in someone mistaken to say it. and yet they're doing. it's just to be moving out of you, but this is the nature of founders to succeed. so hardware they used to do a lot of other ares are not what there will be a company or him and the group because it's not particularly in the same time only asks they just wanted to be ability. customers in this recipe is that all the first things is to fundraising like the rule of determinations with kids.  if you're not to be known your carculal deal in everyone else, and if you're like the multiple describes but you're surprising is that a big company wouldn't be like this tenth for beliefs where you're already already a site even if the more deals don't know whether you're easy to do. you're not a lot of disagreement, that's what it was just even more of the group of doing them.  the rest is that he grasped problems where you should be development.  why don't people could be a hard to make you survive some good startups, you'd have to make it. they always can't also seem to be correctly driven by a successful startup you don't have to make interesting mean than they have to get some different. then of your threat they rejected what we were universities like the speaker was a doal in piggest predictions while you have a lot of kids. when you see them consulting to investors' problems they're expensively for factor, every successful startup would have been too offering. and some startups we are telling one at all, and that will get board in several years old search that before you get in.  knowing since they are just to move off it down the opportunity of our assumption, successful startups were stoping to raise money from the size of most founders.  if you're sure you should have simply tend to be experiment, where you know, this is so much more important to see them, the frontpage in the iphone is much interesting, so long as much about the problem. in the startup will have to be a decision look for one interesting resourceful. they're not a bad been startup is a powerful minds in which you seem obviously little more money useless everyone who's fundraising is just something you've heard for their definition of attractive. i found something you need to depend on his effect on them everything like the problem on one of the reasons—when you want to do that something that can say something convincing it, but because they're sort of just a lot of knowledge of the same things about whatever they aren't precisely also my startup higher, but we have to start to the source, not we understand \"which means an increasing describing general startup is that they say \"the first new size of just as complete and find what you have to figure out to be failing it. if you're probably not some first thing you don't have to get more point; and yet is the extent is to be consequence. they were in the same credential deciding college stages in the programmers of the problem.  growth right now, or they get there is not just always so fall to use people to find on startups i\n",
      "\n",
      "{'q', '1', '[', '_', '.', 't', '(', 'c', 'g', 'j', 'x', 'i', 'o', ';', \"'\", '2', '9', 'w', '5', 'e', ' ', '?', '-', '—', 'n', '0', ',', 'k', 'v', 'a', ']', ':', 'm', 'r', 'y', 'l', 'p', 'd', 'u', '$', '3', '\\n', 'h', 'b', '\"', 'z', 'f', '6', 's', '8', '4', '%'}\n"
     ]
    }
   ],
   "source": [
    "# unique chars present in the data set\n",
    "vocab = list(set(raw_text))\n",
    "print(vocab)"
   ]
  },
  {
   "cell_type": "code",
   "execution_count": 6,
   "metadata": {},
   "outputs": [],
   "source": [
    "ch2int = { c:i for i,c in enumerate(vocab) }\n",
    "int2ch = { i:c for i,c in enumerate(vocab) }\n",
    "num_chars, num_vocab = len(raw_text), len(vocab)"
   ]
  },
  {
   "cell_type": "code",
   "execution_count": 7,
   "metadata": {},
   "outputs": [
    {
     "name": "stdout",
     "output_type": "stream",
     "text": [
      "Total chars: 49993, total vocab: 52\n"
     ]
    }
   ],
   "source": [
    "print(\"Total chars: {}, total vocab: {}\".format(num_chars, num_vocab))"
   ]
  },
  {
   "cell_type": "markdown",
   "metadata": {},
   "source": [
    "## Prepare the training data\n",
    "We essentially have to decide up front how long each sequence of inputs is. How many time steps do you predict through one forward pass of the network?\n",
    "\n",
    "Let's just choose 255, since that's the length of a tweet."
   ]
  },
  {
   "cell_type": "code",
   "execution_count": 9,
   "metadata": {},
   "outputs": [
    {
     "name": "stdout",
     "output_type": "stream",
     "text": [
      "Number of patterns:  49738\n",
      "[5, 42, 19, 20, 11, 24, 28, 19, 48, 5, 12, 33, 48, 20, 48, 12, 20, 32, 38, 7, 42, 20, 29, 43, 12, 38, 5, 20, 5, 42, 19, 11, 33, 20, 48, 5, 29, 33, 5, 38, 36, 20, 42, 38, 43, 48, 4, 20, 20, 29, 48, 20, 29, 20, 35, 12, 5, 20, 12, 46, 20, 32, 11, 24, 37, 20, 11, 20, 37, 12, 24, 14, 5, 20, 27, 24, 12, 17, 20, 5, 42, 19, 20, 32, 12, 33, 19, 20, 29, 11, 33, 43, 12, 33, 24, 11, 24, 8, 20, 7, 29, 48, 19, 20, 12, 46, 20, 5, 42, 19, 20, 19, 38, 33, 12, 36, 19, 29, 24, 20, 12, 46, 20, 5, 42, 19, 20, 48, 7, 42, 19, 37, 38, 35, 19, 26, 20, 29, 24, 37, 20, 46, 33, 12, 32, 20, 48, 38, 7, 42, 20, 48, 11, 5, 19, 48, 20, 5, 42, 29, 5, 20, 17, 12, 38, 35, 37, 20, 43, 19, 20, 5, 42, 29, 5, 20, 29, 20, 35, 12, 17, 20, 11, 37, 19, 29, 20, 46, 12, 33, 20, 32, 12, 24, 19, 34, 20, 17, 19, 14, 33, 19, 20, 24, 12, 5, 20, 11, 24, 20, 29, 24, 8, 19, 35, 20, 33, 12, 38, 24, 37, 48, 4, 20, 5, 42, 19, 20, 17, 12, 33, 35, 37, 20, 29, 33, 19, 20, 5, 42, 19, 20, 37, 29, 24, 8, 19, 33, 20, 5, 42, 29, 5, 20, 32]\n",
      "19\n"
     ]
    }
   ],
   "source": [
    "seq_length = 255\n",
    "\n",
    "# Input data stores the 255 character sequences\n",
    "input_data = []\n",
    "\n",
    "# Output data stores the predicted characters\n",
    "output_data = []\n",
    "\n",
    "# populate both of them\n",
    "# we stop at num_chars - seq_length because that is the last\n",
    "# pattern we will need to recognize\n",
    "for i in range(num_chars - seq_length):\n",
    "    \n",
    "    # the \"sliding window\" of characters\n",
    "    # these are basically 255-grams\n",
    "    input_seq = raw_text[i:i+seq_length]\n",
    "    output_prediction = raw_text[i+seq_length]\n",
    "    \n",
    "    input_data.append([ch2int[ch] for ch in input_seq])\n",
    "    output_data.append(ch2int[output_prediction])\n",
    "\n",
    "num_patterns = len(input_data)\n",
    "print(\"Number of patterns: \", num_patterns)\n",
    "\n",
    "print(input_data[0])\n",
    "print(output_data[0])"
   ]
  },
  {
   "cell_type": "markdown",
   "metadata": {},
   "source": [
    "### Reshape the data for input into Keras"
   ]
  },
  {
   "cell_type": "code",
   "execution_count": 10,
   "metadata": {},
   "outputs": [],
   "source": [
    "# new shape: samples, time steps, features\n",
    "\n",
    "reshaped_input = np.reshape(input_data, (num_patterns, seq_length, 1))\n",
    "\n",
    "# normalize each of the inputs by the number of characters\n",
    "# sort of a \"character gradient\n",
    "reshaped_input = reshaped_input / (num_vocab)"
   ]
  },
  {
   "cell_type": "code",
   "execution_count": 11,
   "metadata": {},
   "outputs": [
    {
     "name": "stdout",
     "output_type": "stream",
     "text": [
      "(49738, 255, 1)\n"
     ]
    }
   ],
   "source": [
    "# Translation here: \n",
    "# This is a list of ALL \"255-grams\",\n",
    "# of length 255, where each one is represented by\n",
    "# a list of 1D normalized character values.\n",
    "\n",
    "print(reshaped_input.shape)"
   ]
  },
  {
   "cell_type": "code",
   "execution_count": 12,
   "metadata": {},
   "outputs": [],
   "source": [
    "onehot_output = np_utils.to_categorical(output_data)"
   ]
  },
  {
   "cell_type": "code",
   "execution_count": 13,
   "metadata": {},
   "outputs": [
    {
     "name": "stdout",
     "output_type": "stream",
     "text": [
      "Non vectorized:  24\n",
      "Vectorized:  [0. 0. 0. 0. 0. 0. 0. 0. 0. 0. 0. 0. 0. 0. 0. 0. 0. 0. 0. 0. 0. 0. 0. 0.\n",
      " 1. 0. 0. 0. 0. 0. 0. 0. 0. 0. 0. 0. 0. 0. 0. 0. 0. 0. 0. 0. 0. 0. 0. 0.\n",
      " 0. 0. 0. 0.]\n"
     ]
    }
   ],
   "source": [
    "print(\"Non vectorized: \", output_data[2])\n",
    "print(\"Vectorized: \", onehot_output[2])"
   ]
  },
  {
   "cell_type": "markdown",
   "metadata": {},
   "source": [
    "## Build the model!"
   ]
  },
  {
   "cell_type": "code",
   "execution_count": 14,
   "metadata": {},
   "outputs": [],
   "source": [
    "# First, a vanilla RNN\n",
    "\n",
    "VanillaModel = Sequential()\n",
    "VanillaModel.add(SimpleRNN(256, input_shape=(reshaped_input.shape[1], reshaped_input.shape[2])))\n",
    "VanillaModel.add(Dropout(0.2))\n",
    "VanillaModel.add(Dense(onehot_output.shape[1], activation='softmax'))\n",
    "VanillaModel.compile(loss='categorical_crossentropy', optimizer='adam')\n",
    "\n",
    "# Then, an LSTM\n",
    "LSTMModel = Sequential()\n",
    "LSTMModel.add(LSTM(256, input_shape=(reshaped_input.shape[1], reshaped_input.shape[2])))\n",
    "LSTMModel.add(Dropout(0.2))\n",
    "LSTMModel.add(Dense(onehot_output.shape[1], activation='softmax'))\n",
    "LSTMModel.compile(loss='categorical_crossentropy', optimizer='adam')"
   ]
  },
  {
   "cell_type": "markdown",
   "metadata": {},
   "source": [
    "### Check the weight improvements as you train"
   ]
  },
  {
   "cell_type": "code",
   "execution_count": 15,
   "metadata": {},
   "outputs": [],
   "source": [
    "weightfile = \"weights-improvement-{epoch:02d}-{loss:.4f}.hdf5\"\n",
    "weightfile = \"weights-LSTM-improvement-{epoch:02d}-{loss:.4f}.hdf5\"\n",
    "checkpoint = ModelCheckpoint(weightfile, monitor='loss', verbose=1, save_best_only=True, mode='min')\n",
    "callbacks_list = [checkpoint]"
   ]
  },
  {
   "cell_type": "code",
   "execution_count": 57,
   "metadata": {
    "collapsed": true
   },
   "outputs": [
    {
     "name": "stdout",
     "output_type": "stream",
     "text": [
      "Epoch 1/20\n",
      "49738/49738 [==============================] - 74s 1ms/step - loss: 2.9390\n",
      "\n",
      "Epoch 00001: loss improved from inf to 2.93904, saving model to weights-improvement-01-2.9390.hdf5\n",
      "Epoch 2/20\n",
      "49738/49738 [==============================] - 72s 1ms/step - loss: 2.8492\n",
      "\n",
      "Epoch 00002: loss improved from 2.93904 to 2.84919, saving model to weights-improvement-02-2.8492.hdf5\n",
      "Epoch 3/20\n",
      "49738/49738 [==============================] - 70s 1ms/step - loss: 2.8288\n",
      "\n",
      "Epoch 00003: loss improved from 2.84919 to 2.82878, saving model to weights-improvement-03-2.8288.hdf5\n",
      "Epoch 4/20\n",
      "49738/49738 [==============================] - 70s 1ms/step - loss: 2.8201\n",
      "\n",
      "Epoch 00004: loss improved from 2.82878 to 2.82008, saving model to weights-improvement-04-2.8201.hdf5\n",
      "Epoch 5/20\n",
      "49738/49738 [==============================] - 71s 1ms/step - loss: 2.9855\n",
      "\n",
      "Epoch 00005: loss did not improve from 2.82008\n",
      "Epoch 6/20\n",
      "49738/49738 [==============================] - 70s 1ms/step - loss: 3.3043\n",
      "\n",
      "Epoch 00006: loss did not improve from 2.82008\n",
      "Epoch 7/20\n",
      "24320/49738 [=============>................] - ETA: 37s - loss: 3.0197"
     ]
    },
    {
     "ename": "KeyboardInterrupt",
     "evalue": "",
     "output_type": "error",
     "traceback": [
      "\u001b[0;31m---------------------------------------------------------------------------\u001b[0m",
      "\u001b[0;31mKeyboardInterrupt\u001b[0m                         Traceback (most recent call last)",
      "\u001b[0;32m<ipython-input-57-fc62c44c39e1>\u001b[0m in \u001b[0;36m<module>\u001b[0;34m()\u001b[0m\n\u001b[1;32m      2\u001b[0m                 \u001b[0mepochs\u001b[0m\u001b[0;34m=\u001b[0m\u001b[0;36m20\u001b[0m\u001b[0;34m,\u001b[0m\u001b[0;34m\u001b[0m\u001b[0m\n\u001b[1;32m      3\u001b[0m                 \u001b[0mbatch_size\u001b[0m\u001b[0;34m=\u001b[0m\u001b[0;36m128\u001b[0m\u001b[0;34m,\u001b[0m\u001b[0;34m\u001b[0m\u001b[0m\n\u001b[0;32m----> 4\u001b[0;31m                 callbacks=callbacks_list)\n\u001b[0m",
      "\u001b[0;32m~/anaconda3/lib/python3.6/site-packages/keras/models.py\u001b[0m in \u001b[0;36mfit\u001b[0;34m(self, x, y, batch_size, epochs, verbose, callbacks, validation_split, validation_data, shuffle, class_weight, sample_weight, initial_epoch, steps_per_epoch, validation_steps, **kwargs)\u001b[0m\n\u001b[1;32m   1000\u001b[0m                               \u001b[0minitial_epoch\u001b[0m\u001b[0;34m=\u001b[0m\u001b[0minitial_epoch\u001b[0m\u001b[0;34m,\u001b[0m\u001b[0;34m\u001b[0m\u001b[0m\n\u001b[1;32m   1001\u001b[0m                               \u001b[0msteps_per_epoch\u001b[0m\u001b[0;34m=\u001b[0m\u001b[0msteps_per_epoch\u001b[0m\u001b[0;34m,\u001b[0m\u001b[0;34m\u001b[0m\u001b[0m\n\u001b[0;32m-> 1002\u001b[0;31m                               validation_steps=validation_steps)\n\u001b[0m\u001b[1;32m   1003\u001b[0m \u001b[0;34m\u001b[0m\u001b[0m\n\u001b[1;32m   1004\u001b[0m     def evaluate(self, x=None, y=None,\n",
      "\u001b[0;32m~/anaconda3/lib/python3.6/site-packages/keras/engine/training.py\u001b[0m in \u001b[0;36mfit\u001b[0;34m(self, x, y, batch_size, epochs, verbose, callbacks, validation_split, validation_data, shuffle, class_weight, sample_weight, initial_epoch, steps_per_epoch, validation_steps, **kwargs)\u001b[0m\n\u001b[1;32m   1703\u001b[0m                               \u001b[0minitial_epoch\u001b[0m\u001b[0;34m=\u001b[0m\u001b[0minitial_epoch\u001b[0m\u001b[0;34m,\u001b[0m\u001b[0;34m\u001b[0m\u001b[0m\n\u001b[1;32m   1704\u001b[0m                               \u001b[0msteps_per_epoch\u001b[0m\u001b[0;34m=\u001b[0m\u001b[0msteps_per_epoch\u001b[0m\u001b[0;34m,\u001b[0m\u001b[0;34m\u001b[0m\u001b[0m\n\u001b[0;32m-> 1705\u001b[0;31m                               validation_steps=validation_steps)\n\u001b[0m\u001b[1;32m   1706\u001b[0m \u001b[0;34m\u001b[0m\u001b[0m\n\u001b[1;32m   1707\u001b[0m     def evaluate(self, x=None, y=None,\n",
      "\u001b[0;32m~/anaconda3/lib/python3.6/site-packages/keras/engine/training.py\u001b[0m in \u001b[0;36m_fit_loop\u001b[0;34m(self, f, ins, out_labels, batch_size, epochs, verbose, callbacks, val_f, val_ins, shuffle, callback_metrics, initial_epoch, steps_per_epoch, validation_steps)\u001b[0m\n\u001b[1;32m   1234\u001b[0m                         \u001b[0mins_batch\u001b[0m\u001b[0;34m[\u001b[0m\u001b[0mi\u001b[0m\u001b[0;34m]\u001b[0m \u001b[0;34m=\u001b[0m \u001b[0mins_batch\u001b[0m\u001b[0;34m[\u001b[0m\u001b[0mi\u001b[0m\u001b[0;34m]\u001b[0m\u001b[0;34m.\u001b[0m\u001b[0mtoarray\u001b[0m\u001b[0;34m(\u001b[0m\u001b[0;34m)\u001b[0m\u001b[0;34m\u001b[0m\u001b[0m\n\u001b[1;32m   1235\u001b[0m \u001b[0;34m\u001b[0m\u001b[0m\n\u001b[0;32m-> 1236\u001b[0;31m                     \u001b[0mouts\u001b[0m \u001b[0;34m=\u001b[0m \u001b[0mf\u001b[0m\u001b[0;34m(\u001b[0m\u001b[0mins_batch\u001b[0m\u001b[0;34m)\u001b[0m\u001b[0;34m\u001b[0m\u001b[0m\n\u001b[0m\u001b[1;32m   1237\u001b[0m                     \u001b[0;32mif\u001b[0m \u001b[0;32mnot\u001b[0m \u001b[0misinstance\u001b[0m\u001b[0;34m(\u001b[0m\u001b[0mouts\u001b[0m\u001b[0;34m,\u001b[0m \u001b[0mlist\u001b[0m\u001b[0;34m)\u001b[0m\u001b[0;34m:\u001b[0m\u001b[0;34m\u001b[0m\u001b[0m\n\u001b[1;32m   1238\u001b[0m                         \u001b[0mouts\u001b[0m \u001b[0;34m=\u001b[0m \u001b[0;34m[\u001b[0m\u001b[0mouts\u001b[0m\u001b[0;34m]\u001b[0m\u001b[0;34m\u001b[0m\u001b[0m\n",
      "\u001b[0;32m~/anaconda3/lib/python3.6/site-packages/keras/backend/tensorflow_backend.py\u001b[0m in \u001b[0;36m__call__\u001b[0;34m(self, inputs)\u001b[0m\n\u001b[1;32m   2480\u001b[0m         \u001b[0msession\u001b[0m \u001b[0;34m=\u001b[0m \u001b[0mget_session\u001b[0m\u001b[0;34m(\u001b[0m\u001b[0;34m)\u001b[0m\u001b[0;34m\u001b[0m\u001b[0m\n\u001b[1;32m   2481\u001b[0m         updated = session.run(fetches=fetches, feed_dict=feed_dict,\n\u001b[0;32m-> 2482\u001b[0;31m                               **self.session_kwargs)\n\u001b[0m\u001b[1;32m   2483\u001b[0m         \u001b[0;32mreturn\u001b[0m \u001b[0mupdated\u001b[0m\u001b[0;34m[\u001b[0m\u001b[0;34m:\u001b[0m\u001b[0mlen\u001b[0m\u001b[0;34m(\u001b[0m\u001b[0mself\u001b[0m\u001b[0;34m.\u001b[0m\u001b[0moutputs\u001b[0m\u001b[0;34m)\u001b[0m\u001b[0;34m]\u001b[0m\u001b[0;34m\u001b[0m\u001b[0m\n\u001b[1;32m   2484\u001b[0m \u001b[0;34m\u001b[0m\u001b[0m\n",
      "\u001b[0;32m~/anaconda3/lib/python3.6/site-packages/tensorflow/python/client/session.py\u001b[0m in \u001b[0;36mrun\u001b[0;34m(self, fetches, feed_dict, options, run_metadata)\u001b[0m\n\u001b[1;32m    898\u001b[0m     \u001b[0;32mtry\u001b[0m\u001b[0;34m:\u001b[0m\u001b[0;34m\u001b[0m\u001b[0m\n\u001b[1;32m    899\u001b[0m       result = self._run(None, fetches, feed_dict, options_ptr,\n\u001b[0;32m--> 900\u001b[0;31m                          run_metadata_ptr)\n\u001b[0m\u001b[1;32m    901\u001b[0m       \u001b[0;32mif\u001b[0m \u001b[0mrun_metadata\u001b[0m\u001b[0;34m:\u001b[0m\u001b[0;34m\u001b[0m\u001b[0m\n\u001b[1;32m    902\u001b[0m         \u001b[0mproto_data\u001b[0m \u001b[0;34m=\u001b[0m \u001b[0mtf_session\u001b[0m\u001b[0;34m.\u001b[0m\u001b[0mTF_GetBuffer\u001b[0m\u001b[0;34m(\u001b[0m\u001b[0mrun_metadata_ptr\u001b[0m\u001b[0;34m)\u001b[0m\u001b[0;34m\u001b[0m\u001b[0m\n",
      "\u001b[0;32m~/anaconda3/lib/python3.6/site-packages/tensorflow/python/client/session.py\u001b[0m in \u001b[0;36m_run\u001b[0;34m(self, handle, fetches, feed_dict, options, run_metadata)\u001b[0m\n\u001b[1;32m   1133\u001b[0m     \u001b[0;32mif\u001b[0m \u001b[0mfinal_fetches\u001b[0m \u001b[0;32mor\u001b[0m \u001b[0mfinal_targets\u001b[0m \u001b[0;32mor\u001b[0m \u001b[0;34m(\u001b[0m\u001b[0mhandle\u001b[0m \u001b[0;32mand\u001b[0m \u001b[0mfeed_dict_tensor\u001b[0m\u001b[0;34m)\u001b[0m\u001b[0;34m:\u001b[0m\u001b[0;34m\u001b[0m\u001b[0m\n\u001b[1;32m   1134\u001b[0m       results = self._do_run(handle, final_targets, final_fetches,\n\u001b[0;32m-> 1135\u001b[0;31m                              feed_dict_tensor, options, run_metadata)\n\u001b[0m\u001b[1;32m   1136\u001b[0m     \u001b[0;32melse\u001b[0m\u001b[0;34m:\u001b[0m\u001b[0;34m\u001b[0m\u001b[0m\n\u001b[1;32m   1137\u001b[0m       \u001b[0mresults\u001b[0m \u001b[0;34m=\u001b[0m \u001b[0;34m[\u001b[0m\u001b[0;34m]\u001b[0m\u001b[0;34m\u001b[0m\u001b[0m\n",
      "\u001b[0;32m~/anaconda3/lib/python3.6/site-packages/tensorflow/python/client/session.py\u001b[0m in \u001b[0;36m_do_run\u001b[0;34m(self, handle, target_list, fetch_list, feed_dict, options, run_metadata)\u001b[0m\n\u001b[1;32m   1314\u001b[0m     \u001b[0;32mif\u001b[0m \u001b[0mhandle\u001b[0m \u001b[0;32mis\u001b[0m \u001b[0;32mNone\u001b[0m\u001b[0;34m:\u001b[0m\u001b[0;34m\u001b[0m\u001b[0m\n\u001b[1;32m   1315\u001b[0m       return self._do_call(_run_fn, feeds, fetches, targets, options,\n\u001b[0;32m-> 1316\u001b[0;31m                            run_metadata)\n\u001b[0m\u001b[1;32m   1317\u001b[0m     \u001b[0;32melse\u001b[0m\u001b[0;34m:\u001b[0m\u001b[0;34m\u001b[0m\u001b[0m\n\u001b[1;32m   1318\u001b[0m       \u001b[0;32mreturn\u001b[0m \u001b[0mself\u001b[0m\u001b[0;34m.\u001b[0m\u001b[0m_do_call\u001b[0m\u001b[0;34m(\u001b[0m\u001b[0m_prun_fn\u001b[0m\u001b[0;34m,\u001b[0m \u001b[0mhandle\u001b[0m\u001b[0;34m,\u001b[0m \u001b[0mfeeds\u001b[0m\u001b[0;34m,\u001b[0m \u001b[0mfetches\u001b[0m\u001b[0;34m)\u001b[0m\u001b[0;34m\u001b[0m\u001b[0m\n",
      "\u001b[0;32m~/anaconda3/lib/python3.6/site-packages/tensorflow/python/client/session.py\u001b[0m in \u001b[0;36m_do_call\u001b[0;34m(self, fn, *args)\u001b[0m\n\u001b[1;32m   1320\u001b[0m   \u001b[0;32mdef\u001b[0m \u001b[0m_do_call\u001b[0m\u001b[0;34m(\u001b[0m\u001b[0mself\u001b[0m\u001b[0;34m,\u001b[0m \u001b[0mfn\u001b[0m\u001b[0;34m,\u001b[0m \u001b[0;34m*\u001b[0m\u001b[0margs\u001b[0m\u001b[0;34m)\u001b[0m\u001b[0;34m:\u001b[0m\u001b[0;34m\u001b[0m\u001b[0m\n\u001b[1;32m   1321\u001b[0m     \u001b[0;32mtry\u001b[0m\u001b[0;34m:\u001b[0m\u001b[0;34m\u001b[0m\u001b[0m\n\u001b[0;32m-> 1322\u001b[0;31m       \u001b[0;32mreturn\u001b[0m \u001b[0mfn\u001b[0m\u001b[0;34m(\u001b[0m\u001b[0;34m*\u001b[0m\u001b[0margs\u001b[0m\u001b[0;34m)\u001b[0m\u001b[0;34m\u001b[0m\u001b[0m\n\u001b[0m\u001b[1;32m   1323\u001b[0m     \u001b[0;32mexcept\u001b[0m \u001b[0merrors\u001b[0m\u001b[0;34m.\u001b[0m\u001b[0mOpError\u001b[0m \u001b[0;32mas\u001b[0m \u001b[0me\u001b[0m\u001b[0;34m:\u001b[0m\u001b[0;34m\u001b[0m\u001b[0m\n\u001b[1;32m   1324\u001b[0m       \u001b[0mmessage\u001b[0m \u001b[0;34m=\u001b[0m \u001b[0mcompat\u001b[0m\u001b[0;34m.\u001b[0m\u001b[0mas_text\u001b[0m\u001b[0;34m(\u001b[0m\u001b[0me\u001b[0m\u001b[0;34m.\u001b[0m\u001b[0mmessage\u001b[0m\u001b[0;34m)\u001b[0m\u001b[0;34m\u001b[0m\u001b[0m\n",
      "\u001b[0;32m~/anaconda3/lib/python3.6/site-packages/tensorflow/python/client/session.py\u001b[0m in \u001b[0;36m_run_fn\u001b[0;34m(feed_dict, fetch_list, target_list, options, run_metadata)\u001b[0m\n\u001b[1;32m   1305\u001b[0m       \u001b[0mself\u001b[0m\u001b[0;34m.\u001b[0m\u001b[0m_extend_graph\u001b[0m\u001b[0;34m(\u001b[0m\u001b[0;34m)\u001b[0m\u001b[0;34m\u001b[0m\u001b[0m\n\u001b[1;32m   1306\u001b[0m       return self._call_tf_sessionrun(\n\u001b[0;32m-> 1307\u001b[0;31m           options, feed_dict, fetch_list, target_list, run_metadata)\n\u001b[0m\u001b[1;32m   1308\u001b[0m \u001b[0;34m\u001b[0m\u001b[0m\n\u001b[1;32m   1309\u001b[0m     \u001b[0;32mdef\u001b[0m \u001b[0m_prun_fn\u001b[0m\u001b[0;34m(\u001b[0m\u001b[0mhandle\u001b[0m\u001b[0;34m,\u001b[0m \u001b[0mfeed_dict\u001b[0m\u001b[0;34m,\u001b[0m \u001b[0mfetch_list\u001b[0m\u001b[0;34m)\u001b[0m\u001b[0;34m:\u001b[0m\u001b[0;34m\u001b[0m\u001b[0m\n",
      "\u001b[0;32m~/anaconda3/lib/python3.6/site-packages/tensorflow/python/client/session.py\u001b[0m in \u001b[0;36m_call_tf_sessionrun\u001b[0;34m(self, options, feed_dict, fetch_list, target_list, run_metadata)\u001b[0m\n\u001b[1;32m   1407\u001b[0m       return tf_session.TF_SessionRun_wrapper(\n\u001b[1;32m   1408\u001b[0m           \u001b[0mself\u001b[0m\u001b[0;34m.\u001b[0m\u001b[0m_session\u001b[0m\u001b[0;34m,\u001b[0m \u001b[0moptions\u001b[0m\u001b[0;34m,\u001b[0m \u001b[0mfeed_dict\u001b[0m\u001b[0;34m,\u001b[0m \u001b[0mfetch_list\u001b[0m\u001b[0;34m,\u001b[0m \u001b[0mtarget_list\u001b[0m\u001b[0;34m,\u001b[0m\u001b[0;34m\u001b[0m\u001b[0m\n\u001b[0;32m-> 1409\u001b[0;31m           run_metadata)\n\u001b[0m\u001b[1;32m   1410\u001b[0m     \u001b[0;32melse\u001b[0m\u001b[0;34m:\u001b[0m\u001b[0;34m\u001b[0m\u001b[0m\n\u001b[1;32m   1411\u001b[0m       \u001b[0;32mwith\u001b[0m \u001b[0merrors\u001b[0m\u001b[0;34m.\u001b[0m\u001b[0mraise_exception_on_not_ok_status\u001b[0m\u001b[0;34m(\u001b[0m\u001b[0;34m)\u001b[0m \u001b[0;32mas\u001b[0m \u001b[0mstatus\u001b[0m\u001b[0;34m:\u001b[0m\u001b[0;34m\u001b[0m\u001b[0m\n",
      "\u001b[0;31mKeyboardInterrupt\u001b[0m: "
     ]
    }
   ],
   "source": [
    "VanillaModel.fit(reshaped_input, onehot_output,\n",
    "                epochs=20,\n",
    "                batch_size=128,\n",
    "                callbacks=callbacks_list)"
   ]
  },
  {
   "cell_type": "code",
   "execution_count": 102,
   "metadata": {
    "collapsed": true
   },
   "outputs": [
    {
     "name": "stdout",
     "output_type": "stream",
     "text": [
      "Epoch 1/20\n",
      "49738/49738 [==============================] - 304s 6ms/step - loss: 2.9634\n",
      "\n",
      "Epoch 00001: loss improved from inf to 2.96338, saving model to weights-LSTM-improvement-01-2.9634.hdf5\n",
      "Epoch 2/20\n",
      "49738/49738 [==============================] - 295s 6ms/step - loss: 2.8884\n",
      "\n",
      "Epoch 00002: loss improved from 2.96338 to 2.88842, saving model to weights-LSTM-improvement-02-2.8884.hdf5\n",
      "Epoch 3/20\n",
      "49738/49738 [==============================] - 292s 6ms/step - loss: 2.8215\n",
      "\n",
      "Epoch 00003: loss improved from 2.88842 to 2.82154, saving model to weights-LSTM-improvement-03-2.8215.hdf5\n",
      "Epoch 4/20\n",
      "49738/49738 [==============================] - 312s 6ms/step - loss: 2.7941\n",
      "\n",
      "Epoch 00004: loss improved from 2.82154 to 2.79407, saving model to weights-LSTM-improvement-04-2.7941.hdf5\n",
      "Epoch 5/20\n",
      "49738/49738 [==============================] - 292s 6ms/step - loss: 2.7640\n",
      "\n",
      "Epoch 00005: loss improved from 2.79407 to 2.76402, saving model to weights-LSTM-improvement-05-2.7640.hdf5\n",
      "Epoch 6/20\n",
      "49738/49738 [==============================] - 296s 6ms/step - loss: 2.7256\n",
      "\n",
      "Epoch 00006: loss improved from 2.76402 to 2.72558, saving model to weights-LSTM-improvement-06-2.7256.hdf5\n",
      "Epoch 7/20\n",
      "49738/49738 [==============================] - 298s 6ms/step - loss: 2.6768\n",
      "\n",
      "Epoch 00007: loss improved from 2.72558 to 2.67676, saving model to weights-LSTM-improvement-07-2.6768.hdf5\n",
      "Epoch 8/20\n",
      "49738/49738 [==============================] - 302s 6ms/step - loss: 2.6182\n",
      "\n",
      "Epoch 00008: loss improved from 2.67676 to 2.61825, saving model to weights-LSTM-improvement-08-2.6182.hdf5\n",
      "Epoch 9/20\n",
      "49738/49738 [==============================] - 311s 6ms/step - loss: 2.5490\n",
      "\n",
      "Epoch 00009: loss improved from 2.61825 to 2.54902, saving model to weights-LSTM-improvement-09-2.5490.hdf5\n",
      "Epoch 10/20\n",
      "49738/49738 [==============================] - 315s 6ms/step - loss: 2.4859\n",
      "\n",
      "Epoch 00010: loss improved from 2.54902 to 2.48585, saving model to weights-LSTM-improvement-10-2.4859.hdf5\n",
      "Epoch 11/20\n",
      "49738/49738 [==============================] - 308s 6ms/step - loss: 2.4216\n",
      "\n",
      "Epoch 00011: loss improved from 2.48585 to 2.42161, saving model to weights-LSTM-improvement-11-2.4216.hdf5\n",
      "Epoch 12/20\n",
      "49738/49738 [==============================] - 325s 7ms/step - loss: 2.3613\n",
      "\n",
      "Epoch 00012: loss improved from 2.42161 to 2.36125, saving model to weights-LSTM-improvement-12-2.3613.hdf5\n",
      "Epoch 13/20\n",
      "49738/49738 [==============================] - 324s 7ms/step - loss: 2.3044\n",
      "\n",
      "Epoch 00013: loss improved from 2.36125 to 2.30444, saving model to weights-LSTM-improvement-13-2.3044.hdf5\n",
      "Epoch 14/20\n",
      "49738/49738 [==============================] - 326s 7ms/step - loss: 2.2518\n",
      "\n",
      "Epoch 00014: loss improved from 2.30444 to 2.25183, saving model to weights-LSTM-improvement-14-2.2518.hdf5\n",
      "Epoch 15/20\n",
      "49738/49738 [==============================] - 339s 7ms/step - loss: 2.2022\n",
      "\n",
      "Epoch 00015: loss improved from 2.25183 to 2.20222, saving model to weights-LSTM-improvement-15-2.2022.hdf5\n",
      "Epoch 16/20\n",
      "49738/49738 [==============================] - 356s 7ms/step - loss: 2.1526\n",
      "\n",
      "Epoch 00016: loss improved from 2.20222 to 2.15263, saving model to weights-LSTM-improvement-16-2.1526.hdf5\n",
      "Epoch 17/20\n",
      "49738/49738 [==============================] - 334s 7ms/step - loss: 2.1040\n",
      "\n",
      "Epoch 00017: loss improved from 2.15263 to 2.10396, saving model to weights-LSTM-improvement-17-2.1040.hdf5\n",
      "Epoch 18/20\n",
      "49738/49738 [==============================] - 341s 7ms/step - loss: 2.0620\n",
      "\n",
      "Epoch 00018: loss improved from 2.10396 to 2.06201, saving model to weights-LSTM-improvement-18-2.0620.hdf5\n",
      "Epoch 19/20\n",
      "49738/49738 [==============================] - 312s 6ms/step - loss: 2.0132\n",
      "\n",
      "Epoch 00019: loss improved from 2.06201 to 2.01321, saving model to weights-LSTM-improvement-19-2.0132.hdf5\n",
      "Epoch 20/20\n",
      "49738/49738 [==============================] - 307s 6ms/step - loss: 1.9716\n",
      "\n",
      "Epoch 00020: loss improved from 2.01321 to 1.97158, saving model to weights-LSTM-improvement-20-1.9716.hdf5\n"
     ]
    },
    {
     "data": {
      "text/plain": [
       "<keras.callbacks.History at 0x1818325d68>"
      ]
     },
     "execution_count": 102,
     "metadata": {},
     "output_type": "execute_result"
    }
   ],
   "source": [
    "LSTMModel.fit(reshaped_input, onehot_output,\n",
    "                epochs=20,\n",
    "                batch_size=128,\n",
    "                callbacks=callbacks_list)"
   ]
  },
  {
   "cell_type": "code",
   "execution_count": 41,
   "metadata": {
    "scrolled": true
   },
   "outputs": [
    {
     "name": "stdout",
     "output_type": "stream",
     "text": [
      "RANDOM SEED: \n",
      "you're trying to have good programmers. there's no implicit problem that probably be components with a day for startups. but the best startup is choosing that it's really presented unfortunately. we haven't had a few decided model of startups that wouldn'\n",
      "o$vdwwo$vdww$_dew$1d0w$vd1\"6_[$v5w$kw6vd_$v5w[$0w$_dv$v$1w6_'$'5$'wwv$_de$$6_v$vd$kw6f$[de0$wd60$60n$'d0$$ffvww$600w0w$vdw_o$vd$kww$wd1wvv'_2$vd$0w$6 fw$vd$kww$vd$swdo$6f0v$0d$0w$1d0$$5ww$[deu0w$2d'_2$vd$ w$6 fw$vd$kww$vd$swdo$6f0v$0d$0w$1d0$$5ww$[deu0w$2d'_2$vd$ w$6 fw$vd$kww$vd$swdo$6f0v$0d$0w$1d0$$5ww$[deu0w$2d'_2$vd$ w$6 fw$vd$kww$vd$swdo$6f0v$0d$0w$1d0$$5ww$[deu0w$2d'_2$vd$ w$6 fw$vd$kww$vd$swdo$6f0v$0d$0w$1d0$$5ww$[deu0w$2d'_2$vd$ w$6 fw$vd$kww$vd$swdo$6f0v$0d$0w$1d0$$5ww$[deu0w$2d'_2$vd$ w$6 fw$vd$kww$vd$swdo$6f0v$0d$0w$1d0$$5ww$[deu0w$2d'_2$vd$ w$6 fw$vd$kww$vd$swdo$6f0v$0d$0w$1d0$$5ww$[deu0w$2d'_2$vd$ w$6 fw$vd$kww$vd$swdo$6f0v$0d$0w$1d0$$5ww$[deu0w$2d'_2$vd$ w$6 fw$vd$kww$vd$swdo$6f0v$0d$0w$1d0$$5ww$[deu0w$2d'_2$vd$ w$6 fw$vd$kww$vd$swdo$6f0v$0d$0w$1d0$$5ww$[deu0w$2d'_2$vd$ w$6 fw$vd$kww$vd$swdo$6f0v$0d$0w$1d0$$5ww$[deu0w$2d'_2$vd$ w$6 fw$vd$kww$vd$swdo$6f0v$0d$0w$1d0$$5ww$[deu0w$2d'_2$vd$ w$6 fw$vd$kww$vd$swdo$6f0v$0d$0w$1d0$$5ww$[deu0w$2d'_2$vd$ w$6 fw$vd$kww$vd$swdo$6f0v$0"
     ]
    }
   ],
   "source": [
    "# Test the model... error didn't improve after a few epochs\n",
    "# load the network weights\n",
    "\n",
    "weightsfile = \"weights-LSTM-improvement-20-1.9716.hdf5\"\n",
    "\n",
    "LSTMModel.load_weights(weightsfile)\n",
    "LSTMModel.compile(loss='categorical_crossentropy', optimizer='adam')\n",
    "\n",
    "start = np.random.randint(0, len(input_data)-1)\n",
    "pattern = input_data[start]\n",
    "generated = []\n",
    "\n",
    "print(\"RANDOM SEED: \")\n",
    "print(''.join([int2ch[i] for i in pattern]))\n",
    "\n",
    "for i in range(1000):\n",
    "        \n",
    "    inp = np.reshape(pattern, (1, len(pattern), 1))\n",
    "    inp = inp / float(num_vocab)\n",
    "    pred = LSTMModel.predict(inp, verbose=0)\n",
    "    \n",
    "    idx = np.argmax(pred)    \n",
    "    result = int2ch[idx]\n",
    "    sys.stdout.write(result)\n",
    "            \n",
    "    # append the new predicted index\n",
    "    pattern.append(idx)\n",
    "    pattern = pattern[1:len(pattern)]"
   ]
  },
  {
   "cell_type": "code",
   "execution_count": null,
   "metadata": {},
   "outputs": [],
   "source": []
  }
 ],
 "metadata": {
  "kernelspec": {
   "display_name": "Python 3",
   "language": "python",
   "name": "python3"
  },
  "language_info": {
   "codemirror_mode": {
    "name": "ipython",
    "version": 3
   },
   "file_extension": ".py",
   "mimetype": "text/x-python",
   "name": "python",
   "nbconvert_exporter": "python",
   "pygments_lexer": "ipython3",
   "version": "3.6.4"
  }
 },
 "nbformat": 4,
 "nbformat_minor": 2
}
